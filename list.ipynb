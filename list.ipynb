{
 "cells": [
  {
   "cell_type": "code",
   "execution_count": 2,
   "metadata": {},
   "outputs": [
    {
     "name": "stdout",
     "output_type": "stream",
     "text": [
      "[1, 2, 3, 4, 5, 6, 7, 8, 9]\n",
      "[9, 2, 3, 4, 5, 6, 7, 8, 1]\n"
     ]
    }
   ],
   "source": [
    "# program to interchange first and last elements in a list\n",
    "\n",
    "l = list(map(int,input(\"Enter some numbers: \").split()))\n",
    "print(l)\n",
    "t = l[-1]\n",
    "l[-1] = l[0]\n",
    "l[0] = t\n",
    "print(l)"
   ]
  },
  {
   "cell_type": "code",
   "execution_count": 4,
   "metadata": {},
   "outputs": [
    {
     "name": "stdout",
     "output_type": "stream",
     "text": [
      "[1, 2, 3, 4, 5, 6, 7, 8, 9]\n",
      "[1, 2, 3, 7, 5, 6, 4, 8, 9]\n"
     ]
    }
   ],
   "source": [
    "# program to swap two elements in a list\n",
    "\n",
    "l = list(map(int,input(\"enter numbers: \").split()))\n",
    "i1 = int(input(\"Enter index 1 for swap: \"))\n",
    "i2 = int(input(\"Enter index 2 for swap: \"))\n",
    "print(l)\n",
    "t = l[i1]\n",
    "l[i1] = l[i2]\n",
    "l[i2] = t\n",
    "print(l)"
   ]
  },
  {
   "cell_type": "code",
   "execution_count": null,
   "metadata": {},
   "outputs": [],
   "source": [
    "# "
   ]
  }
 ],
 "metadata": {
  "kernelspec": {
   "display_name": "base",
   "language": "python",
   "name": "python3"
  },
  "language_info": {
   "codemirror_mode": {
    "name": "ipython",
    "version": 3
   },
   "file_extension": ".py",
   "mimetype": "text/x-python",
   "name": "python",
   "nbconvert_exporter": "python",
   "pygments_lexer": "ipython3",
   "version": "3.9.7"
  },
  "orig_nbformat": 4,
  "vscode": {
   "interpreter": {
    "hash": "d049ea1de5b71566ad37e07fdb18284346722969ba6cb1bf97ff3a17d319dbaa"
   }
  }
 },
 "nbformat": 4,
 "nbformat_minor": 2
}
