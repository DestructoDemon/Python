{
 "cells": [
  {
   "cell_type": "code",
   "execution_count": 1,
   "metadata": {},
   "outputs": [
    {
     "name": "stdout",
     "output_type": "stream",
     "text": [
      "reverse of  23  is  32\n"
     ]
    }
   ],
   "source": [
    "# program to reverse a 2 digit nos\n",
    "a = int(input(\"enter a number: \"))\n",
    "ones = a // 10\n",
    "rev = ones * 1\n",
    "tens = a % 10\n",
    "rev = rev + (tens * 10)\n",
    "print(\"reverse of \",a,\" is \",rev)\n"
   ]
  },
  {
   "cell_type": "code",
   "execution_count": 2,
   "metadata": {},
   "outputs": [
    {
     "name": "stdout",
     "output_type": "stream",
     "text": [
      "reverse of  123  is 321\n"
     ]
    }
   ],
   "source": [
    "# program to reverse a 3 digit nos\n",
    "a = int(input(\"enter a number: \"))\n",
    "ones = a // 100\n",
    "b = a % 100\n",
    "tens = b // 10\n",
    "hunds = b % 10\n",
    "rev = (hunds * 100) + (tens * 10) + (ones * 1)\n",
    "print(\"reverse of \",a,\" is\",rev)"
   ]
  },
  {
   "cell_type": "code",
   "execution_count": 3,
   "metadata": {},
   "outputs": [
    {
     "name": "stdout",
     "output_type": "stream",
     "text": [
      "the day of the year is  157\n"
     ]
    }
   ],
   "source": [
    "# program to calc day of the year\n",
    "a = int(input(\"enter the day: \"))\n",
    "b = int(input(\"enter the month: \"))\n",
    "month = 30\n",
    "day = (b * month) + a\n",
    "print(\"the day of the year is \",day)"
   ]
  }
 ],
 "metadata": {
  "interpreter": {
   "hash": "d049ea1de5b71566ad37e07fdb18284346722969ba6cb1bf97ff3a17d319dbaa"
  },
  "kernelspec": {
   "display_name": "Python 3.9.7 ('base')",
   "language": "python",
   "name": "python3"
  },
  "language_info": {
   "codemirror_mode": {
    "name": "ipython",
    "version": 3
   },
   "file_extension": ".py",
   "mimetype": "text/x-python",
   "name": "python",
   "nbconvert_exporter": "python",
   "pygments_lexer": "ipython3",
   "version": "3.9.7"
  },
  "orig_nbformat": 4
 },
 "nbformat": 4,
 "nbformat_minor": 2
}
