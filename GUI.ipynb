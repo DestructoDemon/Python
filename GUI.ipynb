{
 "cells": [
  {
   "cell_type": "code",
   "execution_count": 12,
   "metadata": {},
   "outputs": [],
   "source": [
    "#Button \n",
    "from tkinter import *\n",
    "from tkinter import messagebox\n",
    "m = Tk()\n",
    "m.geometry(\"200x100\")\n",
    "\n",
    "def on_click():\n",
    "    messagebox.showinfo(\"hello\",\"button clicked\")\n",
    "\n",
    "b1 = Button(m,text=\"button_1\",activebackground=\"pink\",activeforeground=\"black\",bg=\"blue\",fg=\"red\",padx=\"10\",pady=\"5\",command=on_click)\n",
    "b2 = Button(m,text=\"button_2\",activebackground=\"orange\",activeforeground=\"black\",bg=\"green\",fg=\"green\",padx=\"10\",pady=\"5\",command=on_click)\n",
    "b1.pack(side = LEFT)\n",
    "b2.pack(side=RIGHT)\n",
    "m.mainloop()"
   ]
  },
  {
   "cell_type": "code",
   "execution_count": 2,
   "metadata": {},
   "outputs": [
    {
     "name": "stdout",
     "output_type": "stream",
     "text": [
      "Opened database successfully\n"
     ]
    }
   ],
   "source": [
    "import sqlite3\n",
    "\n",
    "conn = sqlite3.connect('test.db')\n",
    "\n",
    "print (\"Opened database successfully\")"
   ]
  },
  {
   "cell_type": "code",
   "execution_count": 1,
   "metadata": {},
   "outputs": [],
   "source": [
    "#Canvas\n",
    "from tkinter import *\n",
    "m = Tk()\n",
    "m.geometry(\"300x300\")\n",
    "m.title(\"Canvas\")\n",
    "\n",
    "c = Canvas(m,bg=\"light blue\",cursor=\"dot\",height=\"200\",width=\"200\")\n",
    "c.pack()\n",
    "\n",
    "circle = c.create_rectangle((10,10,190,190),fill=\"black\")\n",
    "\n",
    "m.mainloop()\n"
   ]
  },
  {
   "cell_type": "code",
   "execution_count": 17,
   "metadata": {},
   "outputs": [],
   "source": [
    "#Checkbutton\n",
    "from tkinter import *\n",
    "m=Tk()\n",
    "m.geometry(\"200x200\")\n",
    "m.title(\"Checkbutton\")\n",
    "\n",
    "ch_1 = Checkbutton(m,text=\"male\",fg=\"blue\").grid(row=0,column=0)\n",
    "ch_2 = Checkbutton(m,text=\"female\",fg=\"red\").grid(row=1,column=0)\n",
    "\n",
    "\n",
    "m.mainloop()"
   ]
  }
 ],
 "metadata": {
  "kernelspec": {
   "display_name": "base",
   "language": "python",
   "name": "python3"
  },
  "language_info": {
   "codemirror_mode": {
    "name": "ipython",
    "version": 3
   },
   "file_extension": ".py",
   "mimetype": "text/x-python",
   "name": "python",
   "nbconvert_exporter": "python",
   "pygments_lexer": "ipython3",
   "version": "3.9.7"
  },
  "orig_nbformat": 4,
  "vscode": {
   "interpreter": {
    "hash": "d049ea1de5b71566ad37e07fdb18284346722969ba6cb1bf97ff3a17d319dbaa"
   }
  }
 },
 "nbformat": 4,
 "nbformat_minor": 2
}
