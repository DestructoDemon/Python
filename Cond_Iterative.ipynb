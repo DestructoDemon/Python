{
 "cells": [
  {
   "cell_type": "code",
   "execution_count": 1,
   "metadata": {},
   "outputs": [
    {
     "name": "stdout",
     "output_type": "stream",
     "text": [
      "4  is the greatest number\n"
     ]
    }
   ],
   "source": [
    "#program to find the biggest of 3 nos\n",
    "x = int(input(\"enter 1st number: \"))\n",
    "y = int(input(\"enter 2nd number: \"))\n",
    "z = int(input(\"enter 3rd number: \"))\n",
    "max = x\n",
    "if y > x:\n",
    "    if y > z:\n",
    "        max = y\n",
    "        print(max, \" is the greatest number\")\n",
    "    else:\n",
    "        max = z\n",
    "        print(max, \" is the greatest number\")\n",
    "else:\n",
    "    print(max, \" is the greatest number\")"
   ]
  },
  {
   "cell_type": "code",
   "execution_count": null,
   "metadata": {},
   "outputs": [],
   "source": []
  },
  {
   "cell_type": "code",
   "execution_count": 8,
   "metadata": {},
   "outputs": [
    {
     "name": "stdout",
     "output_type": "stream",
     "text": [
      "factorial of  4  is 24\n"
     ]
    }
   ],
   "source": [
    "#program to calc factorial of a number\n",
    "x = int(input(\"enter a number: \"))\n",
    "y = x\n",
    "fact = 1\n",
    "while y > 0:\n",
    "    fact *= y\n",
    "    y -= 1\n",
    "print(\"factorial of \",x, \" is\",fact)"
   ]
  },
  {
   "cell_type": "code",
   "execution_count": 3,
   "metadata": {},
   "outputs": [
    {
     "name": "stdout",
     "output_type": "stream",
     "text": [
      "incorrect guess, try again\n",
      "incorrect guess, try again\n",
      "incorrect guess, try again\n",
      "incorrect guess, try again\n",
      "incorrect guess, try again\n",
      "game over\n"
     ]
    }
   ],
   "source": [
    "# number guessing game\n",
    "import random\n",
    "ch = 5\n",
    "y = random.randint(10,50)\n",
    "while ch > 0:\n",
    "    x = int(input(\"guess a number between 10 and 50: \"))\n",
    "    if x == y:\n",
    "        print(\"you guessed correctly\")\n",
    "        break\n",
    "    else:\n",
    "        print(\"incorrect guess, try again\")\n",
    "        ch -= 1\n",
    "else:\n",
    "    print(\"game over\")\n"
   ]
  },
  {
   "cell_type": "code",
   "execution_count": 9,
   "metadata": {},
   "outputs": [
    {
     "name": "stdout",
     "output_type": "stream",
     "text": [
      "\n",
      "* \n",
      "* * \n",
      "* * * \n",
      "* * * * \n",
      "* * * * * \n"
     ]
    }
   ],
   "source": [
    "# to make triangle pattern\n",
    "for i in range (0,6):\n",
    "    for j in range (0,i):\n",
    "        print(\"*\", end=\" \")\n",
    "    print()"
   ]
  },
  {
   "cell_type": "code",
   "execution_count": 13,
   "metadata": {},
   "outputs": [
    {
     "name": "stdout",
     "output_type": "stream",
     "text": [
      "# # # # # \n",
      "# # # # # \n",
      "# # # # # \n",
      "# # # # # \n",
      "# # # # # \n"
     ]
    }
   ],
   "source": [
    "# pattern\n",
    "for i in range (0,5):\n",
    "    for j in range (0,5):\n",
    "        print(\"#\",end=\" \")\n",
    "    print()"
   ]
  },
  {
   "cell_type": "code",
   "execution_count": 14,
   "metadata": {},
   "outputs": [
    {
     "name": "stdout",
     "output_type": "stream",
     "text": [
      "0\n",
      "1\n",
      "1\n",
      "2\n",
      "3\n",
      "5\n",
      "8\n",
      "13\n",
      "21\n",
      "34\n",
      "55\n",
      "89\n",
      "144\n",
      "233\n",
      "377\n",
      "610\n",
      "987\n",
      "1597\n",
      "2584\n",
      "4181\n"
     ]
    }
   ],
   "source": [
    "# fibonacci series\n",
    "a = 0\n",
    "b = 1\n",
    "print(a)\n",
    "print(b)\n",
    "for i in range (1,19):\n",
    "    c = a + b\n",
    "    print(c)\n",
    "    a = b\n",
    "    b = c"
   ]
  },
  {
   "cell_type": "code",
   "execution_count": 19,
   "metadata": {},
   "outputs": [
    {
     "name": "stdout",
     "output_type": "stream",
     "text": [
      "\n",
      "1 \n",
      "1 3 \n",
      "1 3 5 \n",
      "1 3 5 7 \n"
     ]
    }
   ],
   "source": [
    "# to print pattern\n",
    "for i in range (1,10,2):\n",
    "    for j in  range (1,i,2):\n",
    "        print(j,end=\" \")\n",
    "    print()"
   ]
  },
  {
   "cell_type": "code",
   "execution_count": 21,
   "metadata": {},
   "outputs": [
    {
     "name": "stdout",
     "output_type": "stream",
     "text": [
      "1\n",
      "11\n",
      "111\n",
      "1111\n",
      "11111\n",
      "\n"
     ]
    }
   ],
   "source": [
    "# program for pattern\n",
    "for i in range (1,6):\n",
    "    print(\"1\" * i)\n",
    "print()"
   ]
  },
  {
   "cell_type": "code",
   "execution_count": 23,
   "metadata": {},
   "outputs": [
    {
     "name": "stdout",
     "output_type": "stream",
     "text": [
      "4 3 2 1 \n",
      "4 3 2 \n",
      "4 3 \n",
      "4 \n"
     ]
    }
   ],
   "source": [
    "# program for pattern\n",
    "for i in range(0,4):\n",
    "    for j in range (4,i,-1):\n",
    "        print(j, end=\" \")\n",
    "    print()"
   ]
  },
  {
   "cell_type": "code",
   "execution_count": 2,
   "metadata": {},
   "outputs": [
    {
     "name": "stdout",
     "output_type": "stream",
     "text": [
      "It is a leap year\n"
     ]
    }
   ],
   "source": [
    "# program to check if it is leap year\n",
    "x = int(input(\"Enter the year: \"))\n",
    "if x % 4 == 0:\n",
    "    if x % 100 == 0 and x % 400 == 0:\n",
    "        print(\"It is a leap year\")\n",
    "    elif x % 100 == 0 and x % 400 != 0:\n",
    "        print(\"not a leap year\")\n",
    "    else:\n",
    "        print(\"It is a leap year\")\n",
    "else:\n",
    "    print(\"not a leap year\")"
   ]
  },
  {
   "cell_type": "code",
   "execution_count": 10,
   "metadata": {},
   "outputs": [
    {
     "name": "stdout",
     "output_type": "stream",
     "text": [
      "it is a palindrome\n"
     ]
    }
   ],
   "source": [
    "# to check for palindrome \n",
    "x = input(\"enter some numbers: \")\n",
    "y = x[::-1]\n",
    "if x == y:\n",
    "    print(\"it is a palindrome\")\n",
    "else:\n",
    "    print(\"not a palindrome\")\n"
   ]
  },
  {
   "cell_type": "code",
   "execution_count": 5,
   "metadata": {},
   "outputs": [
    {
     "name": "stdout",
     "output_type": "stream",
     "text": [
      "    *\n",
      "   ***\n",
      "  *****\n"
     ]
    }
   ],
   "source": [
    "x = 3\n",
    "for i in range (x):\n",
    "    print(\" \" * (x-i), \"*\" * (2*i + 1))\n"
   ]
  },
  {
   "cell_type": "code",
   "execution_count": 23,
   "metadata": {},
   "outputs": [
    {
     "name": "stdout",
     "output_type": "stream",
     "text": [
      "\n"
     ]
    }
   ],
   "source": []
  }
 ],
 "metadata": {
  "kernelspec": {
   "display_name": "base",
   "language": "python",
   "name": "python3"
  },
  "language_info": {
   "codemirror_mode": {
    "name": "ipython",
    "version": 3
   },
   "file_extension": ".py",
   "mimetype": "text/x-python",
   "name": "python",
   "nbconvert_exporter": "python",
   "pygments_lexer": "ipython3",
   "version": "3.9.7"
  },
  "orig_nbformat": 4,
  "vscode": {
   "interpreter": {
    "hash": "d049ea1de5b71566ad37e07fdb18284346722969ba6cb1bf97ff3a17d319dbaa"
   }
  }
 },
 "nbformat": 4,
 "nbformat_minor": 2
}
